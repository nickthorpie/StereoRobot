{
  "nbformat": 4,
  "nbformat_minor": 0,
  "metadata": {
    "colab": {
      "name": "line_follow.ipynb",
      "provenance": [],
      "collapsed_sections": [],
      "authorship_tag": "ABX9TyPMy4pFfvtf2cEuwRW1XjeT",
      "include_colab_link": true
    },
    "kernelspec": {
      "name": "python3",
      "display_name": "Python 3"
    },
    "language_info": {
      "name": "python"
    }
  },
  "cells": [
    {
      "cell_type": "markdown",
      "metadata": {
        "id": "view-in-github",
        "colab_type": "text"
      },
      "source": [
        "<a href=\"https://colab.research.google.com/github/nickthorpie/StereoRobot/blob/master/line_follow.ipynb\" target=\"_parent\"><img src=\"https://colab.research.google.com/assets/colab-badge.svg\" alt=\"Open In Colab\"/></a>"
      ]
    },
    {
      "cell_type": "markdown",
      "source": [
        "[Open this notebook for editing here](https://colab.research.google.com/drive/1onrUkO_6xz2BWzfPnBXYEHRvGWO74us3?usp=sharing)"
      ],
      "metadata": {
        "id": "8OrXTB_8Wsp9"
      }
    },
    {
      "cell_type": "code",
      "source": [
        "from google.colab.patches import cv2_imshow\n",
        "import cv2\n",
        "def cv2_patch(*args):\n",
        "  if len(args)==2:\n",
        "    im = args[1]\n",
        "  else:\n",
        "    im = args[0]\n",
        "  return cv2_imshow(im)\n",
        "cv2.imshow = lambda *args : cv2_patch(*args)\n",
        "import numpy as np\n",
        "!git clone https://github.com/nickthorpie/StereoRobot/"
      ],
      "metadata": {
        "colab": {
          "base_uri": "https://localhost:8080/"
        },
        "id": "GRMONZAOYIxq",
        "outputId": "375e2da2-db1b-4a98-a267-5d3154ee6b22"
      },
      "execution_count": 1,
      "outputs": [
        {
          "output_type": "stream",
          "name": "stdout",
          "text": [
            "Cloning into 'StereoRobot'...\n",
            "remote: Enumerating objects: 89, done.\u001b[K\n",
            "remote: Counting objects: 100% (89/89), done.\u001b[K\n",
            "remote: Compressing objects: 100% (70/70), done.\u001b[K\n",
            "remote: Total 89 (delta 25), reused 68 (delta 14), pack-reused 0\u001b[K\n",
            "Unpacking objects: 100% (89/89), done.\n"
          ]
        }
      ]
    },
    {
      "cell_type": "code",
      "execution_count": 2,
      "metadata": {
        "id": "3W96Av1jWw2O"
      },
      "outputs": [],
      "source": [
        "_depth = np.load('/content/StereoRobot/resources/camera_samples/depth.npy')\n",
        "_rgb = np.load('/content/StereoRobot/resources/camera_samples/rgb.npy')"
      ]
    },
    {
      "cell_type": "code",
      "source": [
        "normalized = cv2.normalize(_rgb,np.zeros(_rgb.shape),0,255,cv2.NORM_MINMAX).astype('uint8')\n",
        "rgb_recoloured = cv2.cvtColor(normalized,cv2.COLOR_BGR2RGB)\n",
        "rgb = rgb_recoloured\n",
        "cv2.imshow(rgb)\n",
        "\n",
        "depth = cv2.normalize(_depth,np.zeros(rgb.shape),0,255,cv2.NORM_MINMAX).astype('uint8')\n",
        "cv2.imshow(depth)"
      ],
      "metadata": {
        "colab": {
          "base_uri": "https://localhost:8080/",
          "height": 273
        },
        "id": "6kS0qfKwcpyJ",
        "outputId": "08afbfed-cfe7-4676-c6c0-ec761213934a"
      },
      "execution_count": 3,
      "outputs": [
        {
          "output_type": "display_data",
          "data": {
            "image/png": "[encoded data removed]",
            "text/plain": [
              "<PIL.Image.Image image mode=RGB size=128x128 at 0x7FAD598FCF50>"
            ]
          },
          "metadata": {}
        },
        {
          "output_type": "display_data",
          "data": {
            "image/png": "[encoded data removed]",
            "text/plain": [
              "<PIL.Image.Image image mode=L size=128x128 at 0x7FAD598FCE90>"
            ]
          },
          "metadata": {}
        }
      ]
    },
    {
      "cell_type": "code",
      "source": [
        ""
      ],
      "metadata": {
        "id": "wjQRbjlXYDw2"
      },
      "execution_count": 3,
      "outputs": []
    },
    {
      "cell_type": "code",
      "source": [
        ""
      ],
      "metadata": {
        "id": "wRNn4s8-j6dL"
      },
      "execution_count": 3,
      "outputs": []
    },
    {
      "cell_type": "code",
      "source": [
        "from StereoRobot.AutomaticAddison.lane import Lane\n",
        "# from StereoRobot.AutomaticAddison import edge_detection as edge"
      ],
      "metadata": {
        "id": "x5mrzn51j7CQ",
        "colab": {
          "base_uri": "https://localhost:8080/",
          "height": 436
        },
        "outputId": "f5cbb3ce-99e0-42a6-81ac-a73233420b28"
      },
      "execution_count": 4,
      "outputs": [
        {
          "output_type": "error",
          "ename": "ModuleNotFoundError",
          "evalue": "ignored",
          "traceback": [
            "\u001b[0;31m---------------------------------------------------------------------------\u001b[0m",
            "\u001b[0;31mModuleNotFoundError\u001b[0m                       Traceback (most recent call last)",
            "\u001b[0;32m<ipython-input-4-1679cb92cc8f>\u001b[0m in \u001b[0;36m<module>\u001b[0;34m()\u001b[0m\n\u001b[0;32m----> 1\u001b[0;31m \u001b[0;32mfrom\u001b[0m \u001b[0mStereoRobot\u001b[0m\u001b[0;34m.\u001b[0m\u001b[0mAutomaticAddison\u001b[0m\u001b[0;34m.\u001b[0m\u001b[0mlane\u001b[0m \u001b[0;32mimport\u001b[0m \u001b[0mLane\u001b[0m\u001b[0;34m\u001b[0m\u001b[0;34m\u001b[0m\u001b[0m\n\u001b[0m\u001b[1;32m      2\u001b[0m \u001b[0;31m# from StereoRobot.AutomaticAddison import edge_detection as edge\u001b[0m\u001b[0;34m\u001b[0m\u001b[0;34m\u001b[0m\u001b[0;34m\u001b[0m\u001b[0m\n",
            "\u001b[0;32m/content/StereoRobot/AutomaticAddison/lane.py\u001b[0m in \u001b[0;36m<module>\u001b[0;34m()\u001b[0m\n\u001b[1;32m      1\u001b[0m \u001b[0;32mimport\u001b[0m \u001b[0mcv2\u001b[0m  \u001b[0;31m# Import the OpenCV library to enable computer vision\u001b[0m\u001b[0;34m\u001b[0m\u001b[0;34m\u001b[0m\u001b[0m\n\u001b[1;32m      2\u001b[0m \u001b[0;32mimport\u001b[0m \u001b[0mnumpy\u001b[0m \u001b[0;32mas\u001b[0m \u001b[0mnp\u001b[0m  \u001b[0;31m# Import the NumPy scientific computing library\u001b[0m\u001b[0;34m\u001b[0m\u001b[0;34m\u001b[0m\u001b[0m\n\u001b[0;32m----> 3\u001b[0;31m \u001b[0;32mimport\u001b[0m \u001b[0medge_detection\u001b[0m \u001b[0;32mas\u001b[0m \u001b[0medge\u001b[0m  \u001b[0;31m# Handles the detection of lane lines\u001b[0m\u001b[0;34m\u001b[0m\u001b[0;34m\u001b[0m\u001b[0m\n\u001b[0m\u001b[1;32m      4\u001b[0m \u001b[0;32mimport\u001b[0m \u001b[0mmatplotlib\u001b[0m\u001b[0;34m.\u001b[0m\u001b[0mpyplot\u001b[0m \u001b[0;32mas\u001b[0m \u001b[0mplt\u001b[0m  \u001b[0;31m# Used for plotting and error checking\u001b[0m\u001b[0;34m\u001b[0m\u001b[0;34m\u001b[0m\u001b[0m\n\u001b[1;32m      5\u001b[0m \u001b[0;34m\u001b[0m\u001b[0m\n",
            "\u001b[0;31mModuleNotFoundError\u001b[0m: No module named 'edge_detection'",
            "",
            "\u001b[0;31m---------------------------------------------------------------------------\u001b[0;32m\nNOTE: If your import is failing due to a missing package, you can\nmanually install dependencies using either !pip or !apt.\n\nTo view examples of installing some common dependencies, click the\n\"Open Examples\" button below.\n\u001b[0;31m---------------------------------------------------------------------------\u001b[0m\n"
          ],
          "errorDetails": {
            "actions": [
              {
                "action": "open_url",
                "actionText": "Open Examples",
                "url": "/notebooks/snippets/importing_libraries.ipynb"
              }
            ]
          }
        }
      ]
    },
    {
      "cell_type": "code",
      "source": [
        "original_frame = rgb\n",
        "\n",
        "# Create a Lane object\n",
        "lane_obj = Lane(orig_frame=original_frame)\n",
        "\n",
        "# Perform thresholding to isolate lane lines\n",
        "lane_line_markings = lane_obj.get_line_markings()\n",
        "\n",
        "# Plot the region of interest on the image\n",
        "lane_obj.plot_roi(plot=True)\n",
        "\n",
        "# Perform the perspective transform to generate a bird's eye view\n",
        "# If Plot == True, show image with new region of interest\n",
        "# warped_frame = lane_obj.perspective_transform(plot=False)\n",
        "\n",
        "# # Generate the image histogram to serve as a starting point\n",
        "# # for finding lane line pixels\n",
        "# histogram = lane_obj.calculate_histogram(plot=False)\n",
        "\n",
        "# # Find lane line pixels using the sliding window method\n",
        "# left_fit, right_fit = lane_obj.get_lane_line_indices_sliding_windows(\n",
        "#     plot=False)\n",
        "\n",
        "# # Fill in the lane line\n",
        "# lane_obj.get_lane_line_previous_window(left_fit, right_fit, plot=False)\n",
        "\n",
        "# # Overlay lines on the original frame\n",
        "# frame_with_lane_lines = lane_obj.overlay_lane_lines(plot=False)\n",
        "\n",
        "# # Calculate lane line curvature (left and right lane lines)\n",
        "# lane_obj.calculate_curvature(print_to_terminal=False)\n",
        "\n",
        "# # Calculate center offset\n",
        "# lane_obj.calculate_car_position(print_to_terminal=False)\n",
        "\n",
        "# # Display curvature and center offset on image\n",
        "# frame_with_lane_lines2 = lane_obj.display_curvature_offset(\n",
        "#     frame=frame_with_lane_lines, plot=True)\n",
        "\n",
        "# # # Create the output file name by removing the '.jpg' part\n",
        "# # size = len(filename)\n",
        "# # new_filename = filename[:size - 4]\n",
        "# # new_filename = new_filename + '_thresholded.jpg'\n",
        "\n",
        "# # Save the new image in the working directory\n",
        "# # cv2.imwrite(new_filename, lane_line_markings)\n",
        "\n",
        "# # Display the image\n",
        "# # cv2.imshow(\"Image\", lane_line_markings)\n",
        "\n",
        "# # Display the window until any key is pressed\n",
        "# # cv2.waitKey(0)\n",
        "\n",
        "# # Close all windows\n",
        "# # cv2.destroyAllWindows()\n"
      ],
      "metadata": {
        "colab": {
          "base_uri": "https://localhost:8080/",
          "height": 145
        },
        "id": "Tvw14r69pbNj",
        "outputId": "07a2ab16-8513-4d6a-9578-d5922a812465"
      },
      "execution_count": null,
      "outputs": [
        {
          "output_type": "display_data",
          "data": {
            "image/png": "[encoded data removed]",
            "text/plain": [
              "<PIL.Image.Image image mode=RGB size=128x128 at 0x7F0A092B2710>"
            ]
          },
          "metadata": {}
        }
      ]
    },
    {
      "cell_type": "code",
      "source": [
        "cv2.imshow(lane.get_line_markings())"
      ],
      "metadata": {
        "colab": {
          "base_uri": "https://localhost:8080/",
          "height": 145
        },
        "id": "ch3nX4gEr1wE",
        "outputId": "15638236-d717-45c4-8a6c-a5db5f77f809"
      },
      "execution_count": null,
      "outputs": [
        {
          "output_type": "display_data",
          "data": {
            "image/png": "[encoded data removed]",
            "text/plain": [
              "<PIL.Image.Image image mode=L size=128x128 at 0x7F6DD3EDC450>"
            ]
          },
          "metadata": {}
        }
      ]
    },
    {
      "cell_type": "code",
      "source": [
        "lane.plot_roi(plot=True)"
      ],
      "metadata": {
        "colab": {
          "base_uri": "https://localhost:8080/",
          "height": 145
        },
        "id": "qx2evwBYsWBu",
        "outputId": "2f215a77-4766-4707-c16c-c5303f6b2d0e"
      },
      "execution_count": null,
      "outputs": [
        {
          "output_type": "display_data",
          "data": {
            "image/png": "[encoded data removed]",
            "text/plain": [
              "<PIL.Image.Image image mode=RGB size=128x128 at 0x7F6DD3EF82D0>"
            ]
          },
          "metadata": {}
        }
      ]
    },
    {
      "cell_type": "code",
      "source": [
        "warped_frame = lane.perspective_transform(plot=True)"
      ],
      "metadata": {
        "colab": {
          "base_uri": "https://localhost:8080/",
          "height": 283
        },
        "id": "H3jEMsF2s7db",
        "outputId": "477c703b-fa3a-4e13-d9dd-075b5abd22dd"
      },
      "execution_count": null,
      "outputs": [
        {
          "output_type": "error",
          "ename": "error",
          "evalue": "ignored",
          "traceback": [
            "\u001b[0;31m---------------------------------------------------------------------------\u001b[0m",
            "\u001b[0;31merror\u001b[0m                                     Traceback (most recent call last)",
            "\u001b[0;32m<ipython-input-39-fdb72edec444>\u001b[0m in \u001b[0;36m<module>\u001b[0;34m()\u001b[0m\n\u001b[0;32m----> 1\u001b[0;31m \u001b[0mwarped_frame\u001b[0m \u001b[0;34m=\u001b[0m \u001b[0mlane\u001b[0m\u001b[0;34m.\u001b[0m\u001b[0mperspective_transform\u001b[0m\u001b[0;34m(\u001b[0m\u001b[0mplot\u001b[0m\u001b[0;34m=\u001b[0m\u001b[0;32mTrue\u001b[0m\u001b[0;34m)\u001b[0m\u001b[0;34m\u001b[0m\u001b[0;34m\u001b[0m\u001b[0m\n\u001b[0m",
            "\u001b[0;32m/content/StereoRobot/AutomaticAddison/lane.py\u001b[0m in \u001b[0;36mperspective_transform\u001b[0;34m(self, frame, plot)\u001b[0m\n\u001b[1;32m    568\u001b[0m         self.warped_frame = cv2.warpPerspective(\n\u001b[1;32m    569\u001b[0m             frame, self.transformation_matrix, self.orig_image_size, flags=(\n\u001b[0;32m--> 570\u001b[0;31m                 cv2.INTER_LINEAR))\n\u001b[0m\u001b[1;32m    571\u001b[0m \u001b[0;34m\u001b[0m\u001b[0m\n\u001b[1;32m    572\u001b[0m         \u001b[0;31m# Convert image to binary\u001b[0m\u001b[0;34m\u001b[0m\u001b[0;34m\u001b[0m\u001b[0;34m\u001b[0m\u001b[0m\n",
            "\u001b[0;31merror\u001b[0m: OpenCV(4.1.2) /io/opencv/modules/imgproc/src/imgwarp.cpp:3143: error: (-215:Assertion failed) _src.total() > 0 in function 'warpPerspective'\n"
          ]
        }
      ]
    },
    {
      "cell_type": "code",
      "source": [
        "\"\""
      ],
      "metadata": {
        "id": "DQEiHpDlu4al"
      },
      "execution_count": null,
      "outputs": []
    }
  ]
}